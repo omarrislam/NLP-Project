{
 "cells": [
  {
   "cell_type": "code",
   "execution_count": 115,
   "id": "f0b0e32d",
   "metadata": {},
   "outputs": [],
   "source": [
    "text = '''Hello my name is Omar my phone number is: 01022588916\n",
    "i study computer science 05023632880 at mansoura university, Faculty of computer and information sciences\n",
    "my email address is: omareslam07@yahoo.com'''\n"
   ]
  },
  {
   "cell_type": "code",
   "execution_count": 108,
   "id": "6e34a9c4",
   "metadata": {},
   "outputs": [],
   "source": [
    "import re"
   ]
  },
  {
   "cell_type": "code",
   "execution_count": 116,
   "id": "90c4c141",
   "metadata": {},
   "outputs": [],
   "source": [
    "s=re.findall(r'[0-9]{11}|[a-zA-Z]{4,10}[0-9]+@[a-z]{4,9}\\.com$',text)"
   ]
  },
  {
   "cell_type": "code",
   "execution_count": 117,
   "id": "a59951e6",
   "metadata": {},
   "outputs": [
    {
     "name": "stdout",
     "output_type": "stream",
     "text": [
      "['01022588916', '05023632880', 'omareslam07@yahoo.com']\n"
     ]
    }
   ],
   "source": [
    "print(s)"
   ]
  },
  {
   "cell_type": "code",
   "execution_count": null,
   "id": "872a07fe",
   "metadata": {},
   "outputs": [],
   "source": []
  }
 ],
 "metadata": {
  "kernelspec": {
   "display_name": "Python 3",
   "language": "python",
   "name": "python3"
  },
  "language_info": {
   "codemirror_mode": {
    "name": "ipython",
    "version": 3
   },
   "file_extension": ".py",
   "mimetype": "text/x-python",
   "name": "python",
   "nbconvert_exporter": "python",
   "pygments_lexer": "ipython3",
   "version": "3.8.8"
  }
 },
 "nbformat": 4,
 "nbformat_minor": 5
}
